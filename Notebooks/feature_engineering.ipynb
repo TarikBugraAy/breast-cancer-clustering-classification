{
 "cells": [
  {
   "cell_type": "markdown",
   "metadata": {},
   "source": [
    "# Feature Enginerring\n",
    "\n",
    "### Load Clean Dataset for Feature Engineering\n"
   ]
  },
  {
   "cell_type": "code",
   "execution_count": 2,
   "metadata": {},
   "outputs": [
    {
     "name": "stdout",
     "output_type": "stream",
     "text": [
      "Data loaded. Shape: (286, 10)\n"
     ]
    },
    {
     "data": {
      "text/html": [
       "<div>\n",
       "<style scoped>\n",
       "    .dataframe tbody tr th:only-of-type {\n",
       "        vertical-align: middle;\n",
       "    }\n",
       "\n",
       "    .dataframe tbody tr th {\n",
       "        vertical-align: top;\n",
       "    }\n",
       "\n",
       "    .dataframe thead th {\n",
       "        text-align: right;\n",
       "    }\n",
       "</style>\n",
       "<table border=\"1\" class=\"dataframe\">\n",
       "  <thead>\n",
       "    <tr style=\"text-align: right;\">\n",
       "      <th></th>\n",
       "      <th>age</th>\n",
       "      <th>menopause</th>\n",
       "      <th>tumor-size</th>\n",
       "      <th>inv-nodes</th>\n",
       "      <th>node-caps</th>\n",
       "      <th>deg-malig</th>\n",
       "      <th>breast</th>\n",
       "      <th>breast-quad</th>\n",
       "      <th>irradiat</th>\n",
       "      <th>Class</th>\n",
       "    </tr>\n",
       "  </thead>\n",
       "  <tbody>\n",
       "    <tr>\n",
       "      <th>0</th>\n",
       "      <td>40-49</td>\n",
       "      <td>premeno</td>\n",
       "      <td>15-19</td>\n",
       "      <td>0-2</td>\n",
       "      <td>yes</td>\n",
       "      <td>3</td>\n",
       "      <td>right</td>\n",
       "      <td>left_up</td>\n",
       "      <td>no</td>\n",
       "      <td>recurrence-events</td>\n",
       "    </tr>\n",
       "    <tr>\n",
       "      <th>1</th>\n",
       "      <td>50-59</td>\n",
       "      <td>ge40</td>\n",
       "      <td>15-19</td>\n",
       "      <td>0-2</td>\n",
       "      <td>no</td>\n",
       "      <td>1</td>\n",
       "      <td>right</td>\n",
       "      <td>central</td>\n",
       "      <td>no</td>\n",
       "      <td>no-recurrence-events</td>\n",
       "    </tr>\n",
       "    <tr>\n",
       "      <th>2</th>\n",
       "      <td>50-59</td>\n",
       "      <td>ge40</td>\n",
       "      <td>35-39</td>\n",
       "      <td>0-2</td>\n",
       "      <td>no</td>\n",
       "      <td>2</td>\n",
       "      <td>left</td>\n",
       "      <td>left_low</td>\n",
       "      <td>no</td>\n",
       "      <td>recurrence-events</td>\n",
       "    </tr>\n",
       "    <tr>\n",
       "      <th>3</th>\n",
       "      <td>40-49</td>\n",
       "      <td>premeno</td>\n",
       "      <td>35-39</td>\n",
       "      <td>0-2</td>\n",
       "      <td>yes</td>\n",
       "      <td>3</td>\n",
       "      <td>right</td>\n",
       "      <td>left_low</td>\n",
       "      <td>yes</td>\n",
       "      <td>no-recurrence-events</td>\n",
       "    </tr>\n",
       "    <tr>\n",
       "      <th>4</th>\n",
       "      <td>40-49</td>\n",
       "      <td>premeno</td>\n",
       "      <td>30-34</td>\n",
       "      <td>3-5</td>\n",
       "      <td>yes</td>\n",
       "      <td>2</td>\n",
       "      <td>left</td>\n",
       "      <td>right_up</td>\n",
       "      <td>no</td>\n",
       "      <td>recurrence-events</td>\n",
       "    </tr>\n",
       "  </tbody>\n",
       "</table>\n",
       "</div>"
      ],
      "text/plain": [
       "     age menopause tumor-size inv-nodes node-caps  deg-malig breast  \\\n",
       "0  40-49   premeno      15-19       0-2       yes          3  right   \n",
       "1  50-59      ge40      15-19       0-2        no          1  right   \n",
       "2  50-59      ge40      35-39       0-2        no          2   left   \n",
       "3  40-49   premeno      35-39       0-2       yes          3  right   \n",
       "4  40-49   premeno      30-34       3-5       yes          2   left   \n",
       "\n",
       "  breast-quad irradiat                 Class  \n",
       "0     left_up       no     recurrence-events  \n",
       "1     central       no  no-recurrence-events  \n",
       "2    left_low       no     recurrence-events  \n",
       "3    left_low      yes  no-recurrence-events  \n",
       "4    right_up       no     recurrence-events  "
      ]
     },
     "metadata": {},
     "output_type": "display_data"
    }
   ],
   "source": [
    "import pandas as pd\n",
    "\n",
    "# Start fresh from clean data\n",
    "df = pd.read_csv(\"../Data/breast_cancer_cleaned.csv\")\n",
    "df_fe = df.copy()  # feature-engineered version\n",
    "\n",
    "# Sanity check\n",
    "print(\"Data loaded. Shape:\", df_fe.shape)\n",
    "display(df_fe.head())"
   ]
  },
  {
   "cell_type": "markdown",
   "metadata": {},
   "source": [
    "###  Feature Engineering: Convert Age Ranges to Midpoints\n"
   ]
  },
  {
   "cell_type": "code",
   "execution_count": 4,
   "metadata": {},
   "outputs": [
    {
     "name": "stdout",
     "output_type": "stream",
     "text": [
      "Converted age range to midpoint:\n",
      "     age  age_mid\n",
      "0  40-49     44.5\n",
      "1  50-59     54.5\n",
      "2  50-59     54.5\n",
      "3  40-49     44.5\n",
      "4  40-49     44.5\n"
     ]
    }
   ],
   "source": [
    "# Helper function to convert range string to midpoint\n",
    "def range_midpoint(rng):\n",
    "    try:\n",
    "        parts = rng.split('-')\n",
    "        return (int(parts[0]) + int(parts[1])) / 2\n",
    "    except:\n",
    "        return None\n",
    "\n",
    "# Apply to 'age'\n",
    "df_fe['age_mid'] = df_fe['age'].apply(range_midpoint)\n",
    "\n",
    "# Sanity check\n",
    "print(\"Converted age range to midpoint:\")\n",
    "print(df_fe[['age', 'age_mid']].head())"
   ]
  },
  {
   "cell_type": "markdown",
   "metadata": {},
   "source": [
    "###  Convert Tumor Size Ranges to Midpoints\n"
   ]
  },
  {
   "cell_type": "code",
   "execution_count": 6,
   "metadata": {},
   "outputs": [
    {
     "name": "stdout",
     "output_type": "stream",
     "text": [
      "Converted tumor-size range to midpoint:\n",
      "  tumor-size  tumor_size_mid\n",
      "0      15-19            17.0\n",
      "1      15-19            17.0\n",
      "2      35-39            37.0\n",
      "3      35-39            37.0\n",
      "4      30-34            32.0\n"
     ]
    }
   ],
   "source": [
    "# Convert tumor-size to numeric midpoint\n",
    "df_fe['tumor_size_mid'] = df_fe['tumor-size'].apply(range_midpoint)\n",
    "\n",
    "# Sanity check\n",
    "print(\"Converted tumor-size range to midpoint:\")\n",
    "print(df_fe[['tumor-size', 'tumor_size_mid']].head())"
   ]
  },
  {
   "cell_type": "markdown",
   "metadata": {},
   "source": [
    "### Convert Involved Nodes Ranges to Midpoints\n"
   ]
  },
  {
   "cell_type": "code",
   "execution_count": 8,
   "metadata": {},
   "outputs": [
    {
     "name": "stdout",
     "output_type": "stream",
     "text": [
      "Converted inv-nodes range to midpoint:\n",
      "  inv-nodes  inv_nodes_mid\n",
      "0       0-2            1.0\n",
      "1       0-2            1.0\n",
      "2       0-2            1.0\n",
      "3       0-2            1.0\n",
      "4       3-5            4.0\n"
     ]
    }
   ],
   "source": [
    "# Convert inv-nodes to numeric midpoint\n",
    "df_fe['inv_nodes_mid'] = df_fe['inv-nodes'].apply(range_midpoint)\n",
    "\n",
    "# Sanity check\n",
    "print(\"Converted inv-nodes range to midpoint:\")\n",
    "print(df_fe[['inv-nodes', 'inv_nodes_mid']].head())\n"
   ]
  },
  {
   "cell_type": "markdown",
   "metadata": {},
   "source": [
    "###  One-Hot Encode Menopause\n"
   ]
  },
  {
   "cell_type": "code",
   "execution_count": 9,
   "metadata": {},
   "outputs": [
    {
     "name": "stdout",
     "output_type": "stream",
     "text": [
      "One-hot encoded menopause columns:\n",
      "   menopause_ge40  menopause_lt40  menopause_premeno\n",
      "0           False           False               True\n",
      "1            True           False              False\n",
      "2            True           False              False\n",
      "3           False           False               True\n",
      "4           False           False               True\n"
     ]
    }
   ],
   "source": [
    "# One-hot encode menopause and add to df_fe\n",
    "menopause_dummies = pd.get_dummies(df_fe['menopause'], prefix='menopause')\n",
    "df_fe = pd.concat([df_fe, menopause_dummies], axis=1)\n",
    "\n",
    "# Sanity check\n",
    "print(\"One-hot encoded menopause columns:\")\n",
    "print(menopause_dummies.head())"
   ]
  },
  {
   "cell_type": "markdown",
   "metadata": {},
   "source": [
    "##### Quick note: if we want the columns to be int (0/1 instead of True/False), we can cast them later with .astype(int), sometimes helps with model compatibility.\n",
    "\n"
   ]
  },
  {
   "cell_type": "markdown",
   "metadata": {},
   "source": [
    "### One-Hot Encode Node-Caps\n"
   ]
  },
  {
   "cell_type": "code",
   "execution_count": 10,
   "metadata": {},
   "outputs": [
    {
     "name": "stdout",
     "output_type": "stream",
     "text": [
      "One-hot encoded node-caps columns:\n",
      "   node_caps_no  node_caps_yes\n",
      "0         False           True\n",
      "1          True          False\n",
      "2          True          False\n",
      "3         False           True\n",
      "4         False           True\n"
     ]
    }
   ],
   "source": [
    "# One-hot encode node-caps\n",
    "node_caps_dummies = pd.get_dummies(df_fe['node-caps'], prefix='node_caps')\n",
    "df_fe = pd.concat([df_fe, node_caps_dummies], axis=1)\n",
    "\n",
    "print(\"One-hot encoded node-caps columns:\")\n",
    "print(node_caps_dummies.head())"
   ]
  },
  {
   "cell_type": "markdown",
   "metadata": {},
   "source": [
    "### One-Hot Encode Irradiation Status"
   ]
  },
  {
   "cell_type": "code",
   "execution_count": 11,
   "metadata": {},
   "outputs": [
    {
     "name": "stdout",
     "output_type": "stream",
     "text": [
      "One-hot encoded irradiat columns:\n",
      "   irradiat_no  irradiat_yes\n",
      "0         True         False\n",
      "1         True         False\n",
      "2         True         False\n",
      "3        False          True\n",
      "4         True         False\n"
     ]
    }
   ],
   "source": [
    "# One-hot encode irradiat\n",
    "irradiat_dummies = pd.get_dummies(df_fe['irradiat'], prefix='irradiat')\n",
    "df_fe = pd.concat([df_fe, irradiat_dummies], axis=1)\n",
    "\n",
    "print(\"One-hot encoded irradiat columns:\")\n",
    "print(irradiat_dummies.head())"
   ]
  },
  {
   "cell_type": "markdown",
   "metadata": {},
   "source": [
    "### One-Hot Encode Breast Side"
   ]
  },
  {
   "cell_type": "code",
   "execution_count": 12,
   "metadata": {},
   "outputs": [
    {
     "name": "stdout",
     "output_type": "stream",
     "text": [
      "One-hot encoded breast columns:\n",
      "   breast_left  breast_right\n",
      "0        False          True\n",
      "1        False          True\n",
      "2         True         False\n",
      "3        False          True\n",
      "4         True         False\n"
     ]
    }
   ],
   "source": [
    "# One-hot encode breast side\n",
    "breast_dummies = pd.get_dummies(df_fe['breast'], prefix='breast')\n",
    "df_fe = pd.concat([df_fe, breast_dummies], axis=1)\n",
    "\n",
    "print(\"One-hot encoded breast columns:\")\n",
    "print(breast_dummies.head())"
   ]
  },
  {
   "cell_type": "markdown",
   "metadata": {},
   "source": [
    "### One-Hot Encode Breast Quadrant\n"
   ]
  },
  {
   "cell_type": "code",
   "execution_count": 13,
   "metadata": {},
   "outputs": [
    {
     "name": "stdout",
     "output_type": "stream",
     "text": [
      "One-hot encoded breast-quad columns:\n",
      "   quad_central  quad_left_low  quad_left_up  quad_right_low  quad_right_up\n",
      "0         False          False          True           False          False\n",
      "1          True          False         False           False          False\n",
      "2         False           True         False           False          False\n",
      "3         False           True         False           False          False\n",
      "4         False          False         False           False           True\n"
     ]
    }
   ],
   "source": [
    "# One-hot encode breast quadrant\n",
    "quad_dummies = pd.get_dummies(df_fe['breast-quad'], prefix='quad')\n",
    "df_fe = pd.concat([df_fe, quad_dummies], axis=1)\n",
    "\n",
    "print(\"One-hot encoded breast-quad columns:\")\n",
    "print(quad_dummies.head())"
   ]
  },
  {
   "cell_type": "markdown",
   "metadata": {},
   "source": [
    "### Finalized Feature-Engineered Dataset \n",
    "\n",
    "We have completed feature engineering on the clean breast cancer dataset. The transformed dataset includes:\n",
    "\n",
    "- Numeric midpoints for: `age`, `tumor-size`, and `inv-nodes`\n",
    "- One-hot encoded categorical features: `menopause`, `node-caps`, `irradiat`, `breast`, `breast-quad`\n",
    "- `deg-malig` is kept as-is (already numeric)\n",
    "- Original `Class` column is preserved for potential analysis or comparison\n",
    "- The data is now ready for clustering"
   ]
  },
  {
   "cell_type": "code",
   "execution_count": 14,
   "metadata": {},
   "outputs": [
    {
     "name": "stdout",
     "output_type": "stream",
     "text": [
      "Feature-engineered dataset saved as 'breast_cancer_feature_engineered.csv'\n"
     ]
    }
   ],
   "source": [
    "# Save the feature-engineered dataset (with Class still intact)\n",
    "df_fe.to_csv(\"../Data/breast_cancer_feature_engineered.csv\", index=False)\n",
    "print(\"Feature-engineered dataset saved as 'breast_cancer_feature_engineered.csv'\")"
   ]
  }
 ],
 "metadata": {
  "kernelspec": {
   "display_name": "Python 3",
   "language": "python",
   "name": "python3"
  },
  "language_info": {
   "codemirror_mode": {
    "name": "ipython",
    "version": 3
   },
   "file_extension": ".py",
   "mimetype": "text/x-python",
   "name": "python",
   "nbconvert_exporter": "python",
   "pygments_lexer": "ipython3",
   "version": "3.11.2"
  }
 },
 "nbformat": 4,
 "nbformat_minor": 2
}
